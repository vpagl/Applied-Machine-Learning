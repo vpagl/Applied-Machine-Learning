{
 "cells": [
  {
   "cell_type": "code",
   "execution_count": 1,
   "id": "fccdc216",
   "metadata": {},
   "outputs": [],
   "source": [
    "import os\n",
    "\n",
    "# Change the current working directory to the D drive\n",
    "os.chdir(\"D:/Applied ML/Assignment 2/data\")"
   ]
  },
  {
   "cell_type": "code",
   "execution_count": 6,
   "id": "89bdc239",
   "metadata": {},
   "outputs": [
    {
     "name": "stdout",
     "output_type": "stream",
     "text": [
      "D:\\Applied ML\\Assignment 2\n"
     ]
    }
   ],
   "source": [
    "%cd .."
   ]
  },
  {
   "cell_type": "code",
   "execution_count": 7,
   "id": "4138cf80",
   "metadata": {},
   "outputs": [
    {
     "name": "stdout",
     "output_type": "stream",
     "text": [
      "D:\\Applied ML\\Assignment 2\\src\n"
     ]
    }
   ],
   "source": [
    "%cd src"
   ]
  },
  {
   "cell_type": "code",
   "execution_count": 8,
   "id": "2aa00ef5",
   "metadata": {},
   "outputs": [],
   "source": [
    "%matplotlib inline\n",
    "import matplotlib.pyplot as plt\n",
    "import csv\n",
    "import pandas as pd\n",
    "import sklearn\n",
    "import regex as re\n",
    "import numpy as np\n",
    "import os, sys, random\n",
    "import nltk\n",
    "from collections import Counter\n",
    "from nltk.tokenize import RegexpTokenizer, word_tokenize, sent_tokenize\n",
    "from nltk.stem import WordNetLemmatizer\n",
    "from sklearn.model_selection import train_test_split\n",
    "from zipfile import ZipFile\n",
    "from textblob import TextBlob\n",
    "from sklearn.feature_extraction.text import CountVectorizer, TfidfTransformer\n",
    "from sklearn.preprocessing import MultiLabelBinarizer\n",
    "from nltk.corpus import wordnet \n",
    "import string\n",
    "from nltk.corpus import stopwords\n",
    "from contractions import fix\n",
    "\n",
    "\n",
    "stop_words=set(stopwords.words('english'))"
   ]
  },
  {
   "cell_type": "code",
   "execution_count": 14,
   "id": "812a1f22",
   "metadata": {},
   "outputs": [],
   "source": [
    "raw_data = pd.read_csv(\"../data/emails.csv\", skiprows=[0], names=[\"text\", \"spam\"])"
   ]
  },
  {
   "cell_type": "code",
   "execution_count": 15,
   "id": "74ffbe8c",
   "metadata": {},
   "outputs": [],
   "source": [
    "raw_data.to_csv('../data/raw_data.csv', index=False)"
   ]
  },
  {
   "cell_type": "code",
   "execution_count": 20,
   "id": "10740389",
   "metadata": {},
   "outputs": [
    {
     "name": "stdout",
     "output_type": "stream",
     "text": [
      "                                                   text  spam\n",
      "0     Subject: naturally irresistible your corporate...     1\n",
      "1     Subject: the stock trading gunslinger  fanny i...     1\n",
      "2     Subject: unbelievable new homes made easy  im ...     1\n",
      "3     Subject: 4 color printing special  request add...     1\n",
      "4     Subject: do not have money , get software cds ...     1\n",
      "...                                                 ...   ...\n",
      "5723  Subject: re : research and development charges...     0\n",
      "5724  Subject: re : receipts from visit  jim ,  than...     0\n",
      "5725  Subject: re : enron case study update  wow ! a...     0\n",
      "5726  Subject: re : interest  david ,  please , call...     0\n",
      "5727  Subject: news : aurora 5 . 2 update  aurora ve...     0\n",
      "\n",
      "[5728 rows x 2 columns]\n"
     ]
    }
   ],
   "source": [
    "mails = pd.read_csv(\"../data/raw_data.csv\")\n",
    "print(mails)"
   ]
  },
  {
   "cell_type": "code",
   "execution_count": 21,
   "id": "5268748e",
   "metadata": {},
   "outputs": [
    {
     "data": {
      "text/html": [
       "<div>\n",
       "<style scoped>\n",
       "    .dataframe tbody tr th:only-of-type {\n",
       "        vertical-align: middle;\n",
       "    }\n",
       "\n",
       "    .dataframe tbody tr th {\n",
       "        vertical-align: top;\n",
       "    }\n",
       "\n",
       "    .dataframe thead th {\n",
       "        text-align: right;\n",
       "    }\n",
       "</style>\n",
       "<table border=\"1\" class=\"dataframe\">\n",
       "  <thead>\n",
       "    <tr style=\"text-align: right;\">\n",
       "      <th></th>\n",
       "      <th>text</th>\n",
       "      <th>spam</th>\n",
       "    </tr>\n",
       "  </thead>\n",
       "  <tbody>\n",
       "    <tr>\n",
       "      <th>0</th>\n",
       "      <td>Subject: naturally irresistible your corporate...</td>\n",
       "      <td>1</td>\n",
       "    </tr>\n",
       "    <tr>\n",
       "      <th>1</th>\n",
       "      <td>Subject: the stock trading gunslinger  fanny i...</td>\n",
       "      <td>1</td>\n",
       "    </tr>\n",
       "    <tr>\n",
       "      <th>2</th>\n",
       "      <td>Subject: unbelievable new homes made easy  im ...</td>\n",
       "      <td>1</td>\n",
       "    </tr>\n",
       "    <tr>\n",
       "      <th>3</th>\n",
       "      <td>Subject: 4 color printing special  request add...</td>\n",
       "      <td>1</td>\n",
       "    </tr>\n",
       "    <tr>\n",
       "      <th>4</th>\n",
       "      <td>Subject: do not have money , get software cds ...</td>\n",
       "      <td>1</td>\n",
       "    </tr>\n",
       "  </tbody>\n",
       "</table>\n",
       "</div>"
      ],
      "text/plain": [
       "                                                text  spam\n",
       "0  Subject: naturally irresistible your corporate...     1\n",
       "1  Subject: the stock trading gunslinger  fanny i...     1\n",
       "2  Subject: unbelievable new homes made easy  im ...     1\n",
       "3  Subject: 4 color printing special  request add...     1\n",
       "4  Subject: do not have money , get software cds ...     1"
      ]
     },
     "execution_count": 21,
     "metadata": {},
     "output_type": "execute_result"
    }
   ],
   "source": [
    "mails.head()"
   ]
  },
  {
   "cell_type": "code",
   "execution_count": 22,
   "id": "19035708",
   "metadata": {},
   "outputs": [
    {
     "data": {
      "text/html": [
       "<div>\n",
       "<style scoped>\n",
       "    .dataframe tbody tr th:only-of-type {\n",
       "        vertical-align: middle;\n",
       "    }\n",
       "\n",
       "    .dataframe tbody tr th {\n",
       "        vertical-align: top;\n",
       "    }\n",
       "\n",
       "    .dataframe thead tr th {\n",
       "        text-align: left;\n",
       "    }\n",
       "\n",
       "    .dataframe thead tr:last-of-type th {\n",
       "        text-align: right;\n",
       "    }\n",
       "</style>\n",
       "<table border=\"1\" class=\"dataframe\">\n",
       "  <thead>\n",
       "    <tr>\n",
       "      <th></th>\n",
       "      <th colspan=\"4\" halign=\"left\">text</th>\n",
       "    </tr>\n",
       "    <tr>\n",
       "      <th></th>\n",
       "      <th>count</th>\n",
       "      <th>unique</th>\n",
       "      <th>top</th>\n",
       "      <th>freq</th>\n",
       "    </tr>\n",
       "    <tr>\n",
       "      <th>spam</th>\n",
       "      <th></th>\n",
       "      <th></th>\n",
       "      <th></th>\n",
       "      <th></th>\n",
       "    </tr>\n",
       "  </thead>\n",
       "  <tbody>\n",
       "    <tr>\n",
       "      <th>0</th>\n",
       "      <td>4360</td>\n",
       "      <td>4327</td>\n",
       "      <td>Subject: * special notification * aurora versi...</td>\n",
       "      <td>2</td>\n",
       "    </tr>\n",
       "    <tr>\n",
       "      <th>1</th>\n",
       "      <td>1368</td>\n",
       "      <td>1368</td>\n",
       "      <td>Subject: naturally irresistible your corporate...</td>\n",
       "      <td>1</td>\n",
       "    </tr>\n",
       "  </tbody>\n",
       "</table>\n",
       "</div>"
      ],
      "text/plain": [
       "      text                                                               \n",
       "     count unique                                                top freq\n",
       "spam                                                                     \n",
       "0     4360   4327  Subject: * special notification * aurora versi...    2\n",
       "1     1368   1368  Subject: naturally irresistible your corporate...    1"
      ]
     },
     "execution_count": 22,
     "metadata": {},
     "output_type": "execute_result"
    }
   ],
   "source": [
    "mails.groupby('spam').describe()"
   ]
  },
  {
   "cell_type": "code",
   "execution_count": 23,
   "id": "6c70b979",
   "metadata": {},
   "outputs": [],
   "source": [
    "mails['length'] = mails['text'].map(lambda text: len(text))"
   ]
  },
  {
   "cell_type": "code",
   "execution_count": 24,
   "id": "26f3d041",
   "metadata": {},
   "outputs": [
    {
     "data": {
      "text/html": [
       "<div>\n",
       "<style scoped>\n",
       "    .dataframe tbody tr th:only-of-type {\n",
       "        vertical-align: middle;\n",
       "    }\n",
       "\n",
       "    .dataframe tbody tr th {\n",
       "        vertical-align: top;\n",
       "    }\n",
       "\n",
       "    .dataframe thead th {\n",
       "        text-align: right;\n",
       "    }\n",
       "</style>\n",
       "<table border=\"1\" class=\"dataframe\">\n",
       "  <thead>\n",
       "    <tr style=\"text-align: right;\">\n",
       "      <th></th>\n",
       "      <th>text</th>\n",
       "      <th>spam</th>\n",
       "      <th>length</th>\n",
       "    </tr>\n",
       "  </thead>\n",
       "  <tbody>\n",
       "    <tr>\n",
       "      <th>0</th>\n",
       "      <td>Subject: naturally irresistible your corporate...</td>\n",
       "      <td>1</td>\n",
       "      <td>1484</td>\n",
       "    </tr>\n",
       "    <tr>\n",
       "      <th>1</th>\n",
       "      <td>Subject: the stock trading gunslinger  fanny i...</td>\n",
       "      <td>1</td>\n",
       "      <td>598</td>\n",
       "    </tr>\n",
       "    <tr>\n",
       "      <th>2</th>\n",
       "      <td>Subject: unbelievable new homes made easy  im ...</td>\n",
       "      <td>1</td>\n",
       "      <td>448</td>\n",
       "    </tr>\n",
       "    <tr>\n",
       "      <th>3</th>\n",
       "      <td>Subject: 4 color printing special  request add...</td>\n",
       "      <td>1</td>\n",
       "      <td>500</td>\n",
       "    </tr>\n",
       "    <tr>\n",
       "      <th>4</th>\n",
       "      <td>Subject: do not have money , get software cds ...</td>\n",
       "      <td>1</td>\n",
       "      <td>235</td>\n",
       "    </tr>\n",
       "  </tbody>\n",
       "</table>\n",
       "</div>"
      ],
      "text/plain": [
       "                                                text  spam  length\n",
       "0  Subject: naturally irresistible your corporate...     1    1484\n",
       "1  Subject: the stock trading gunslinger  fanny i...     1     598\n",
       "2  Subject: unbelievable new homes made easy  im ...     1     448\n",
       "3  Subject: 4 color printing special  request add...     1     500\n",
       "4  Subject: do not have money , get software cds ...     1     235"
      ]
     },
     "execution_count": 24,
     "metadata": {},
     "output_type": "execute_result"
    }
   ],
   "source": [
    "mails.head()"
   ]
  },
  {
   "cell_type": "code",
   "execution_count": 25,
   "id": "51cdf5e0",
   "metadata": {},
   "outputs": [
    {
     "data": {
      "text/plain": [
       "<AxesSubplot: ylabel='Frequency'>"
      ]
     },
     "execution_count": 25,
     "metadata": {},
     "output_type": "execute_result"
    },
    {
     "data": {
      "image/png": "[encoded data removed]",
      "text/plain": [
       "<Figure size 640x480 with 1 Axes>"
      ]
     },
     "metadata": {},
     "output_type": "display_data"
    }
   ],
   "source": [
    "mails.length.plot(bins=20, kind='hist')"
   ]
  },
  {
   "cell_type": "code",
   "execution_count": 26,
   "id": "58839dcc",
   "metadata": {},
   "outputs": [
    {
     "data": {
      "text/plain": [
       "count     5728.000000\n",
       "mean      1556.768680\n",
       "std       2042.649812\n",
       "min         13.000000\n",
       "25%        508.750000\n",
       "50%        979.000000\n",
       "75%       1894.250000\n",
       "max      43952.000000\n",
       "Name: length, dtype: float64"
      ]
     },
     "execution_count": 26,
     "metadata": {},
     "output_type": "execute_result"
    }
   ],
   "source": [
    "mails.length.describe()"
   ]
  },
  {
   "cell_type": "code",
   "execution_count": 27,
   "id": "8e42db01",
   "metadata": {},
   "outputs": [],
   "source": [
    "# Splitting the mails in tokens\n",
    "def split_into_tokens(data):\n",
    "    tokenized_words = []\n",
    "    regex=r\"\\w+\"\n",
    "    \n",
    "    for i in range(len(data.text)):\n",
    "        tokenized_words.append(re.findall(regex, data.text[i]))\n",
    "        \n",
    "    return tokenized_words"
   ]
  },
  {
   "cell_type": "code",
   "execution_count": 28,
   "id": "4c54eccd",
   "metadata": {},
   "outputs": [],
   "source": [
    "#Function to perform lematization and stopword removal\n",
    "def lemmatize(data):\n",
    "    lemmatizer = WordNetLemmatizer()\n",
    "    lemmatized_words = []\n",
    "    \n",
    "    for i in range(len(data)):\n",
    "        temp = []\n",
    "\n",
    "        for j in range(len(data[i])):\n",
    "        \n",
    "            if data[i][j].lower() in stop_words:\n",
    "                continue\n",
    "            \n",
    "            elif data[i][j] in string.punctuation:\n",
    "                continue\n",
    "            \n",
    "            else:\n",
    "                temp.append(str(lemmatizer.lemmatize(data[i][j]).lower()))\n",
    "\n",
    "        lemmatized_words.append(temp)             \n",
    "\n",
    "    return lemmatized_words"
   ]
  },
  {
   "cell_type": "code",
   "execution_count": 29,
   "id": "05fd7638",
   "metadata": {},
   "outputs": [],
   "source": [
    "token_words = split_into_tokens(mails)\n",
    "processed_words = lemmatize(token_words)\n",
    "\n",
    "mails['processed_mails'] = processed_words"
   ]
  },
  {
   "cell_type": "code",
   "execution_count": 30,
   "id": "4a347b4f",
   "metadata": {},
   "outputs": [
    {
     "data": {
      "text/html": [
       "<div>\n",
       "<style scoped>\n",
       "    .dataframe tbody tr th:only-of-type {\n",
       "        vertical-align: middle;\n",
       "    }\n",
       "\n",
       "    .dataframe tbody tr th {\n",
       "        vertical-align: top;\n",
       "    }\n",
       "\n",
       "    .dataframe thead th {\n",
       "        text-align: right;\n",
       "    }\n",
       "</style>\n",
       "<table border=\"1\" class=\"dataframe\">\n",
       "  <thead>\n",
       "    <tr style=\"text-align: right;\">\n",
       "      <th></th>\n",
       "      <th>text</th>\n",
       "      <th>spam</th>\n",
       "      <th>length</th>\n",
       "      <th>processed_mails</th>\n",
       "    </tr>\n",
       "  </thead>\n",
       "  <tbody>\n",
       "    <tr>\n",
       "      <th>0</th>\n",
       "      <td>Subject: naturally irresistible your corporate...</td>\n",
       "      <td>1</td>\n",
       "      <td>1484</td>\n",
       "      <td>[subject, naturally, irresistible, corporate, ...</td>\n",
       "    </tr>\n",
       "    <tr>\n",
       "      <th>1</th>\n",
       "      <td>Subject: the stock trading gunslinger  fanny i...</td>\n",
       "      <td>1</td>\n",
       "      <td>598</td>\n",
       "      <td>[subject, stock, trading, gunslinger, fanny, m...</td>\n",
       "    </tr>\n",
       "    <tr>\n",
       "      <th>2</th>\n",
       "      <td>Subject: unbelievable new homes made easy  im ...</td>\n",
       "      <td>1</td>\n",
       "      <td>448</td>\n",
       "      <td>[subject, unbelievable, new, home, made, easy,...</td>\n",
       "    </tr>\n",
       "    <tr>\n",
       "      <th>3</th>\n",
       "      <td>Subject: 4 color printing special  request add...</td>\n",
       "      <td>1</td>\n",
       "      <td>500</td>\n",
       "      <td>[subject, 4, color, printing, special, request...</td>\n",
       "    </tr>\n",
       "    <tr>\n",
       "      <th>4</th>\n",
       "      <td>Subject: do not have money , get software cds ...</td>\n",
       "      <td>1</td>\n",
       "      <td>235</td>\n",
       "      <td>[subject, money, get, software, cd, software, ...</td>\n",
       "    </tr>\n",
       "  </tbody>\n",
       "</table>\n",
       "</div>"
      ],
      "text/plain": [
       "                                                text  spam  length  \\\n",
       "0  Subject: naturally irresistible your corporate...     1    1484   \n",
       "1  Subject: the stock trading gunslinger  fanny i...     1     598   \n",
       "2  Subject: unbelievable new homes made easy  im ...     1     448   \n",
       "3  Subject: 4 color printing special  request add...     1     500   \n",
       "4  Subject: do not have money , get software cds ...     1     235   \n",
       "\n",
       "                                     processed_mails  \n",
       "0  [subject, naturally, irresistible, corporate, ...  \n",
       "1  [subject, stock, trading, gunslinger, fanny, m...  \n",
       "2  [subject, unbelievable, new, home, made, easy,...  \n",
       "3  [subject, 4, color, printing, special, request...  \n",
       "4  [subject, money, get, software, cd, software, ...  "
      ]
     },
     "execution_count": 30,
     "metadata": {},
     "output_type": "execute_result"
    }
   ],
   "source": [
    "mails.head()"
   ]
  },
  {
   "cell_type": "code",
   "execution_count": 31,
   "id": "1cc80bc5",
   "metadata": {},
   "outputs": [],
   "source": [
    "#Train-validation and test split\n",
    "train_test_split_size = 0.1\n",
    "X_train_val, X_test, y_train_val, y_test = train_test_split(mails.processed_mails, mails.spam, test_size = train_test_split_size, random_state = 42)"
   ]
  },
  {
   "cell_type": "code",
   "execution_count": 32,
   "id": "db0bc902",
   "metadata": {},
   "outputs": [],
   "source": [
    "#Train and Validation split\n",
    "train_val_split_size = 0.1\n",
    "X_train, X_val, y_train, y_val = train_test_split(X_train_val, y_train_val, test_size = train_val_split_size, random_state = 42)"
   ]
  },
  {
   "cell_type": "code",
   "execution_count": 33,
   "id": "da761e31",
   "metadata": {},
   "outputs": [],
   "source": [
    "#Creating the splitted dataframes\n",
    "train_df = pd.DataFrame({'X_train': X_train,'y_train': y_train})\n",
    "val_df = pd.DataFrame({'X_val': X_val,'y_val': y_val})\n",
    "test_df = pd.DataFrame({'X_test': X_test,'y_test': y_test})"
   ]
  },
  {
   "cell_type": "code",
   "execution_count": 34,
   "id": "7a153fb6",
   "metadata": {},
   "outputs": [],
   "source": [
    "train_df.to_csv('../data/train.csv',index = False)\n",
    "val_df.to_csv('../data/validation.csv',index = False)\n",
    "test_df.to_csv('../data/test.csv',index = False)\n",
    "#mails.to_csv('./data/modified_df.csv',index = False)"
   ]
  },
  {
   "cell_type": "code",
   "execution_count": 36,
   "id": "9b0040df",
   "metadata": {},
   "outputs": [
    {
     "name": "stdout",
     "output_type": "stream",
     "text": [
      "D:\\Applied ML\\Assignment 2\n"
     ]
    }
   ],
   "source": [
    "%cd .."
   ]
  },
  {
   "cell_type": "code",
   "execution_count": 37,
   "id": "7e807bbc",
   "metadata": {},
   "outputs": [
    {
     "name": "stderr",
     "output_type": "stream",
     "text": [
      "hint: Using 'master' as the name for the initial branch. This default branch name\n",
      "hint: is subject to change. To configure the initial branch name to use in all\n",
      "hint: of your new repositories, which will suppress this warning, call:\n",
      "hint: \n",
      "hint: \tgit config --global init.defaultBranch <name>\n",
      "hint: \n",
      "hint: Names commonly chosen instead of 'master' are 'main', 'trunk' and\n",
      "hint: 'development'. The just-created branch can be renamed via this command:\n",
      "hint: \n",
      "hint: \tgit branch -m <name>\n"
     ]
    },
    {
     "name": "stdout",
     "output_type": "stream",
     "text": [
      "Initialized empty Git repository in /mnt/d/Applied ML/Assignment 2/.git/\n",
      "Initialized DVC repository.\n",
      "\n",
      "You can now commit the changes to git.\n",
      "\n",
      "+---------------------------------------------------------------------+\n",
      "|                                                                     |\n",
      "|        DVC has enabled anonymous aggregate usage analytics.         |\n",
      "|     Read the analytics documentation (and how to opt-out) here:     |\n",
      "|             <https://dvc.org/doc/user-guide/analytics>              |\n",
      "|                                                                     |\n",
      "+---------------------------------------------------------------------+\n",
      "\n",
      "What's next?\n",
      "------------\n",
      "- Check out the documentation: <https://dvc.org/doc>\n",
      "- Get help and share ideas: <https://dvc.org/chat>\n",
      "- Star us on GitHub: <https://github.com/iterative/dvc>\n"
     ]
    }
   ],
   "source": [
    "%%bash\n",
    "git init\n",
    "dvc init"
   ]
  },
  {
   "cell_type": "code",
   "execution_count": 38,
   "id": "acaf5461",
   "metadata": {},
   "outputs": [
    {
     "name": "stdout",
     "output_type": "stream",
     "text": [
      "Setting 'storage' as a default remote.\n"
     ]
    }
   ],
   "source": [
    "%%bash\n",
    "dvc remote add -d storage gdrive://1nYGTAAtlc-8kY9zvsIrfvGB0OK_pcsbx"
   ]
  },
  {
   "cell_type": "code",
   "execution_count": 39,
   "id": "a9c00363",
   "metadata": {},
   "outputs": [
    {
     "name": "stdout",
     "output_type": "stream",
     "text": [
      "[master (root-commit) 091ca56] Configure remote storage\n",
      " 1 file changed, 4 insertions(+)\n",
      " create mode 100644 .dvc/config\n"
     ]
    }
   ],
   "source": [
    "%%bash\n",
    "git commit .dvc/config -m \"Configure remote storage\""
   ]
  },
  {
   "cell_type": "code",
   "execution_count": 40,
   "id": "1b8e6581",
   "metadata": {},
   "outputs": [
    {
     "name": "stdout",
     "output_type": "stream",
     "text": [
      "D:\\Applied ML\\Assignment 2\\data\n"
     ]
    }
   ],
   "source": [
    "%cd data"
   ]
  },
  {
   "cell_type": "code",
   "execution_count": 41,
   "id": "82b8d9c6",
   "metadata": {},
   "outputs": [
    {
     "name": "stdout",
     "output_type": "stream",
     "text": [
      "\n",
      "To track the changes with git, run:\n",
      "\n",
      "\tgit add raw_data.csv.dvc .gitignore\n",
      "\n",
      "To enable auto staging, run:\n",
      "\n",
      "\tdvc config core.autostage true\n"
     ]
    }
   ],
   "source": [
    "%%bash\n",
    "dvc add raw_data.csv"
   ]
  },
  {
   "cell_type": "code",
   "execution_count": 42,
   "id": "cf5159d5",
   "metadata": {},
   "outputs": [
    {
     "name": "stdout",
     "output_type": "stream",
     "text": [
      "\n",
      "To track the changes with git, run:\n",
      "\n",
      "\tgit add validation.csv.dvc .gitignore test.csv.dvc train.csv.dvc\n",
      "\n",
      "To enable auto staging, run:\n",
      "\n",
      "\tdvc config core.autostage true\n"
     ]
    }
   ],
   "source": [
    "%%bash\n",
    "dvc add train.csv validation.csv test.csv"
   ]
  },
  {
   "cell_type": "code",
   "execution_count": 46,
   "id": "bd162a48",
   "metadata": {},
   "outputs": [],
   "source": [
    "%%bash\n",
    "dvc config core.autostage true"
   ]
  },
  {
   "cell_type": "code",
   "execution_count": 43,
   "id": "c8008cb7",
   "metadata": {},
   "outputs": [
    {
     "name": "stdout",
     "output_type": "stream",
     "text": [
      "4 files pushed\n"
     ]
    }
   ],
   "source": [
    "%%bash\n",
    "dvc push"
   ]
  },
  {
   "cell_type": "code",
   "execution_count": 44,
   "id": "854d49ec",
   "metadata": {},
   "outputs": [],
   "source": [
    "%%bash\n",
    "git add raw_data.csv.dvc train.csv.dvc validation.csv.dvc test.csv.dvc .gitignore"
   ]
  },
  {
   "cell_type": "code",
   "execution_count": 45,
   "id": "10b5095d",
   "metadata": {},
   "outputs": [
    {
     "name": "stdout",
     "output_type": "stream",
     "text": [
      "[master 9c0ee62] Track data with DVC\n",
      " 8 files changed, 34 insertions(+)\n",
      " create mode 100755 .dvc/.gitignore\n",
      " mode change 100644 => 100755 .dvc/config\n",
      " create mode 100755 .dvcignore\n",
      " create mode 100644 data/.gitignore\n",
      " create mode 100644 data/raw_data.csv.dvc\n",
      " create mode 100644 data/test.csv.dvc\n",
      " create mode 100644 data/train.csv.dvc\n",
      " create mode 100644 data/validation.csv.dvc\n"
     ]
    }
   ],
   "source": [
    "%%bash\n",
    "git commit -m \"Track data with DVC\""
   ]
  },
  {
   "cell_type": "code",
   "execution_count": 47,
   "id": "bd03ace1",
   "metadata": {},
   "outputs": [
    {
     "name": "stdout",
     "output_type": "stream",
     "text": [
      "D:\\Applied ML\\Assignment 2\\src\n"
     ]
    }
   ],
   "source": [
    "%cd ../src"
   ]
  },
  {
   "cell_type": "code",
   "execution_count": 48,
   "id": "bfe03273",
   "metadata": {},
   "outputs": [],
   "source": [
    "##### Different seed \n",
    "#Train-validation and test split\n",
    "train_test_split_size = 0.1\n",
    "X_train_val, X_test, y_train_val, y_test = train_test_split(mails.processed_mails, mails.spam, test_size = train_test_split_size, random_state = 69)\n",
    "\n",
    "#Train and Validation split\n",
    "train_val_split_size = 0.1\n",
    "X_train, X_val, y_train, y_val = train_test_split(X_train_val, y_train_val, test_size = train_val_split_size, random_state = 69)\n",
    "\n",
    "#Creating the splitted dataframes\n",
    "train_df = pd.DataFrame({'X_train': X_train,'y_train': y_train})\n",
    "val_df = pd.DataFrame({'X_val': X_val,'y_val': y_val})\n",
    "test_df = pd.DataFrame({'X_test': X_test,'y_test': y_test})\n",
    "\n",
    "train_df.to_csv('../data/train.csv',index = False)\n",
    "val_df.to_csv('../data/validation.csv',index = False)\n",
    "test_df.to_csv('../data/test.csv',index = False)\n",
    "#mails.to_csv('./data/modified_df.csv',index = False)"
   ]
  },
  {
   "cell_type": "code",
   "execution_count": 49,
   "id": "e18bbaad",
   "metadata": {},
   "outputs": [
    {
     "name": "stdout",
     "output_type": "stream",
     "text": [
      "D:\\Applied ML\\Assignment 2\\data\n"
     ]
    }
   ],
   "source": [
    "%cd ../data"
   ]
  },
  {
   "cell_type": "code",
   "execution_count": 50,
   "id": "356e62f9",
   "metadata": {},
   "outputs": [],
   "source": [
    "%%bash\n",
    "dvc add train.csv validation.csv test.csv"
   ]
  },
  {
   "cell_type": "code",
   "execution_count": 51,
   "id": "4abe4c31",
   "metadata": {},
   "outputs": [],
   "source": [
    "%%bash\n",
    "git add train.csv.dvc validation.csv.dvc test.csv.dvc"
   ]
  },
  {
   "cell_type": "code",
   "execution_count": 52,
   "id": "e30a8b6a",
   "metadata": {},
   "outputs": [
    {
     "name": "stdout",
     "output_type": "stream",
     "text": [
      "[master 0638263] data splits with new random seed\n",
      " 3 files changed, 6 insertions(+), 6 deletions(-)\n",
      " mode change 100644 => 100755 data/test.csv.dvc\n",
      " mode change 100644 => 100755 data/train.csv.dvc\n",
      " mode change 100644 => 100755 data/validation.csv.dvc\n"
     ]
    }
   ],
   "source": [
    "%%bash\n",
    "git commit -m \"data splits with new random seed\""
   ]
  },
  {
   "cell_type": "code",
   "execution_count": 53,
   "id": "8e60e1cd",
   "metadata": {},
   "outputs": [
    {
     "name": "stdout",
     "output_type": "stream",
     "text": [
      "3 files pushed\n"
     ]
    }
   ],
   "source": [
    "%%bash\n",
    "dvc push"
   ]
  },
  {
   "cell_type": "code",
   "execution_count": 55,
   "id": "a703712c",
   "metadata": {},
   "outputs": [
    {
     "name": "stdout",
     "output_type": "stream",
     "text": [
      "0638263 data splits with new random seed\n",
      "9c0ee62 Track data with DVC\n",
      "091ca56 Configure remote storage\n"
     ]
    }
   ],
   "source": [
    "%%bash\n",
    "git log --oneline"
   ]
  },
  {
   "cell_type": "markdown",
   "id": "3f4546f8",
   "metadata": {},
   "source": [
    "### Reverting back previos version"
   ]
  },
  {
   "cell_type": "code",
   "execution_count": 56,
   "id": "c9a5d945",
   "metadata": {},
   "outputs": [
    {
     "name": "stdout",
     "output_type": "stream",
     "text": [
      "D:\\Applied ML\\Assignment 2\\data\n"
     ]
    }
   ],
   "source": [
    "%cd ../data"
   ]
  },
  {
   "cell_type": "code",
   "execution_count": 57,
   "id": "21579759",
   "metadata": {},
   "outputs": [
    {
     "name": "stderr",
     "output_type": "stream",
     "text": [
      "Updated 3 paths from 65a3443\n"
     ]
    }
   ],
   "source": [
    "%%bash\n",
    "git checkout 9c0ee62 train.csv.dvc validation.csv.dvc test.csv.dvc"
   ]
  },
  {
   "cell_type": "code",
   "execution_count": 58,
   "id": "67b4001a",
   "metadata": {},
   "outputs": [
    {
     "name": "stdout",
     "output_type": "stream",
     "text": [
      "M       raw_data.csv\n",
      "M       test.csv\n",
      "M       validation.csv\n",
      "M       train.csv\n"
     ]
    }
   ],
   "source": [
    "%%bash\n",
    "dvc checkout"
   ]
  },
  {
   "cell_type": "code",
   "execution_count": 64,
   "id": "3ab96c15",
   "metadata": {},
   "outputs": [
    {
     "name": "stdout",
     "output_type": "stream",
     "text": [
      "Index(['X_train', 'y_train'], dtype='object')\n",
      "Distribution in train.csv: \n",
      "0    3524\n",
      "1    1115\n",
      "Name: y_train, dtype: int64\n",
      "\n"
     ]
    },
    {
     "data": {
      "image/png": "[encoded data removed]",
      "text/plain": [
       "<Figure size 640x480 with 1 Axes>"
      ]
     },
     "metadata": {},
     "output_type": "display_data"
    },
    {
     "name": "stdout",
     "output_type": "stream",
     "text": [
      "Index(['X_val', 'y_val'], dtype='object')\n",
      "Distribution in validation.csv: \n",
      "0    411\n",
      "1    105\n",
      "Name: y_val, dtype: int64\n",
      "\n"
     ]
    },
    {
     "data": {
      "image/png": "[encoded data removed]",
      "text/plain": [
       "<Figure size 640x480 with 1 Axes>"
      ]
     },
     "metadata": {},
     "output_type": "display_data"
    },
    {
     "name": "stdout",
     "output_type": "stream",
     "text": [
      "Index(['X_test', 'y_test'], dtype='object')\n",
      "Distribution in test.csv: \n",
      "0    425\n",
      "1    148\n",
      "Name: y_test, dtype: int64\n",
      "\n"
     ]
    },
    {
     "data": {
      "image/png": "[encoded data removed]",
      "text/plain": [
       "<Figure size 640x480 with 1 Axes>"
      ]
     },
     "metadata": {},
     "output_type": "display_data"
    }
   ],
   "source": [
    "import pandas as pd\n",
    "import matplotlib.pyplot as plt\n",
    "\n",
    "for split in ['train', 'validation', 'test']:\n",
    "    df = pd.read_csv(f'../data/{split}.csv')\n",
    "    print(df.columns)\n",
    "    distribution = df['y_train' if split == 'train' else 'y_val' if split == 'validation' else 'y_test'].value_counts()\n",
    "    print(f\"Distribution in {split}.csv: \\n{distribution}\\n\")\n",
    "\n",
    "    # Plotting distribution\n",
    "    distribution.plot(kind='bar')\n",
    "    plt.title(f\"Target Variable Distribution in {split}.csv\")\n",
    "    plt.xlabel(\"Target Variable\")\n",
    "    plt.ylabel(\"Count\")\n",
    "    plt.show()\n"
   ]
  },
  {
   "cell_type": "markdown",
   "id": "70f15097",
   "metadata": {},
   "source": [
    "### Updated Version"
   ]
  },
  {
   "cell_type": "code",
   "execution_count": 65,
   "id": "b9220ed1",
   "metadata": {},
   "outputs": [
    {
     "name": "stderr",
     "output_type": "stream",
     "text": [
      "Updated 3 paths from 1ba27e2\n"
     ]
    }
   ],
   "source": [
    "%%bash\n",
    "git checkout 0638263 train.csv.dvc validation.csv.dvc test.csv.dvc"
   ]
  },
  {
   "cell_type": "code",
   "execution_count": 66,
   "id": "f3302c59",
   "metadata": {},
   "outputs": [
    {
     "name": "stdout",
     "output_type": "stream",
     "text": [
      "M       test.csv\n",
      "M       validation.csv\n",
      "M       train.csv\n",
      "M       raw_data.csv\n"
     ]
    }
   ],
   "source": [
    "%%bash\n",
    "dvc checkout"
   ]
  },
  {
   "cell_type": "code",
   "execution_count": 69,
   "id": "df902b9a",
   "metadata": {},
   "outputs": [
    {
     "name": "stdout",
     "output_type": "stream",
     "text": [
      "D:\\Applied ML\\Assignment 2\\src\n"
     ]
    }
   ],
   "source": [
    "%cd ../src"
   ]
  },
  {
   "cell_type": "code",
   "execution_count": 67,
   "id": "12c286af",
   "metadata": {},
   "outputs": [
    {
     "name": "stdout",
     "output_type": "stream",
     "text": [
      "Index(['X_train', 'y_train'], dtype='object')\n",
      "Distribution in train.csv: \n",
      "0    3530\n",
      "1    1109\n",
      "Name: y_train, dtype: int64\n",
      "\n"
     ]
    },
    {
     "data": {
      "image/png": "[encoded data removed]",
      "text/plain": [
       "<Figure size 640x480 with 1 Axes>"
      ]
     },
     "metadata": {},
     "output_type": "display_data"
    },
    {
     "name": "stdout",
     "output_type": "stream",
     "text": [
      "Index(['X_val', 'y_val'], dtype='object')\n",
      "Distribution in validation.csv: \n",
      "0    394\n",
      "1    122\n",
      "Name: y_val, dtype: int64\n",
      "\n"
     ]
    },
    {
     "data": {
      "image/png": "[encoded data removed]",
      "text/plain": [
       "<Figure size 640x480 with 1 Axes>"
      ]
     },
     "metadata": {},
     "output_type": "display_data"
    },
    {
     "name": "stdout",
     "output_type": "stream",
     "text": [
      "Index(['X_test', 'y_test'], dtype='object')\n",
      "Distribution in test.csv: \n",
      "0    436\n",
      "1    137\n",
      "Name: y_test, dtype: int64\n",
      "\n"
     ]
    },
    {
     "data": {
      "image/png": "[encoded data removed]",
      "text/plain": [
       "<Figure size 640x480 with 1 Axes>"
      ]
     },
     "metadata": {},
     "output_type": "display_data"
    }
   ],
   "source": [
    "import pandas as pd\n",
    "import matplotlib.pyplot as plt\n",
    "\n",
    "for split in ['train', 'validation', 'test']:\n",
    "    df = pd.read_csv(f'../data/{split}.csv')\n",
    "    print(df.columns)\n",
    "    distribution = df['y_train' if split == 'train' else 'y_val' if split == 'validation' else 'y_test'].value_counts()\n",
    "    print(f\"Distribution in {split}.csv: \\n{distribution}\\n\")\n",
    "\n",
    "    # Plotting distribution\n",
    "    distribution.plot(kind='bar')\n",
    "    plt.title(f\"Target Variable Distribution in {split}.csv\")\n",
    "    plt.xlabel(\"Target Variable\")\n",
    "    plt.ylabel(\"Count\")\n",
    "    plt.show()"
   ]
  }
 ],
 "metadata": {
  "kernelspec": {
   "display_name": "Python 3 (ipykernel)",
   "language": "python",
   "name": "python3"
  },
  "language_info": {
   "codemirror_mode": {
    "name": "ipython",
    "version": 3
   },
   "file_extension": ".py",
   "mimetype": "text/x-python",
   "name": "python",
   "nbconvert_exporter": "python",
   "pygments_lexer": "ipython3",
   "version": "3.8.8"
  }
 },
 "nbformat": 4,
 "nbformat_minor": 5
}
