{
 "cells": [
  {
   "cell_type": "markdown",
   "id": "739c6396",
   "metadata": {},
   "source": [
    "## AML Assignment 3\n",
    "### Varun Agrawal\n",
    "### MDS202251\n",
    "#### train.ipynb"
   ]
  },
  {
   "cell_type": "markdown",
   "id": "91225cae",
   "metadata": {},
   "source": [
    "Import and Data Loading"
   ]
  },
  {
   "cell_type": "code",
   "execution_count": 22,
   "id": "f038f0bb",
   "metadata": {},
   "outputs": [],
   "source": [
    "import pandas as pd\n",
    "from sklearn.feature_extraction.text import CountVectorizer, TfidfTransformer\n",
    "from sklearn.model_selection import train_test_split, GridSearchCV\n",
    "from sklearn.tree import DecisionTreeClassifier\n",
    "from sklearn.naive_bayes import MultinomialNB\n",
    "from sklearn.linear_model import LogisticRegression\n",
    "from sklearn.svm import SVC\n",
    "from sklearn.metrics import classification_report, accuracy_score, confusion_matrix\n",
    "import joblib\n",
    "\n",
    "def load_data(train_path, val_path, test_path, mod_df_path):\n",
    "    train_df = pd.read_csv(train_path)\n",
    "    val_df = pd.read_csv(val_path)\n",
    "    test_df = pd.read_csv(test_path)\n",
    "    df = pd.read_csv(mod_df_path)\n",
    "    return train_df, val_df, test_df, df\n"
   ]
  },
  {
   "cell_type": "markdown",
   "id": "ce24306a",
   "metadata": {},
   "source": [
    "Data Preprocessing"
   ]
  },
  {
   "cell_type": "code",
   "execution_count": 11,
   "id": "a3b39e8e",
   "metadata": {},
   "outputs": [],
   "source": [
    "def preprocess_data(train_df, val_df, test_df):\n",
    "    vectorizer = CountVectorizer()\n",
    "    vectorizer.fit(train_df.X_train)\n",
    "    X_train = vectorizer.transform(train_df.X_train)\n",
    "    X_val = vectorizer.transform(val_df.X_val)\n",
    "    X_test = vectorizer.transform(test_df.X_test)\n",
    "    \n",
    "    tfidf_trans = TfidfTransformer().fit(X_train)\n",
    "    tfidf_X_train = tfidf_trans.transform(X_train)\n",
    "    tfidf_X_val = tfidf_trans.transform(X_val)\n",
    "    tfidf_X_test = tfidf_trans.transform(X_test)\n",
    "    \n",
    "    return tfidf_X_train, tfidf_X_val, tfidf_X_test\n"
   ]
  },
  {
   "cell_type": "markdown",
   "id": "7443fb89",
   "metadata": {},
   "source": [
    "Model Training and Hyperparameter Tuning:"
   ]
  },
  {
   "cell_type": "code",
   "execution_count": 12,
   "id": "4978a737",
   "metadata": {},
   "outputs": [],
   "source": [
    "def train_model(model, X_train, y_train, hyperparams=None):\n",
    "    if hyperparams:\n",
    "        model = GridSearchCV(model, hyperparams, cv=5, scoring='accuracy', return_train_score=True)\n",
    "    model.fit(X_train, y_train)\n",
    "    return model\n"
   ]
  },
  {
   "cell_type": "markdown",
   "id": "33002ea1",
   "metadata": {},
   "source": [
    "Model Evaluation"
   ]
  },
  {
   "cell_type": "code",
   "execution_count": 13,
   "id": "117e01fd",
   "metadata": {},
   "outputs": [],
   "source": [
    "def evaluate_model(model, X_val, y_val):\n",
    "    val_predictions = model.predict(X_val)\n",
    "    accuracy = accuracy_score(y_val, val_predictions)\n",
    "    report = classification_report(y_val, val_predictions)\n",
    "    confusion = confusion_matrix(y_val, val_predictions)\n",
    "    return accuracy, report, confusion\n"
   ]
  },
  {
   "cell_type": "markdown",
   "id": "0e2f0aef",
   "metadata": {},
   "source": [
    "Model Testing"
   ]
  },
  {
   "cell_type": "code",
   "execution_count": 14,
   "id": "723b7889",
   "metadata": {},
   "outputs": [],
   "source": [
    "def test_model(model, X_test, y_test):\n",
    "    test_predictions = model.predict(X_test)\n",
    "    accuracy = accuracy_score(y_test, test_predictions)\n",
    "    report = classification_report(y_test, test_predictions)\n",
    "    confusion = confusion_matrix(y_test, test_predictions)\n",
    "    return accuracy, report, confusion\n"
   ]
  },
  {
   "cell_type": "markdown",
   "id": "76689c5a",
   "metadata": {},
   "source": [
    "Loading Data"
   ]
  },
  {
   "cell_type": "code",
   "execution_count": 15,
   "id": "06b30ba4",
   "metadata": {},
   "outputs": [],
   "source": [
    "train_path = '/mnt/d/Applied ML/Assignment 3/data/train.csv'\n",
    "val_path = '/mnt/d/Applied ML/Assignment 3/data/validation.csv'\n",
    "test_path = '/mnt/d/Applied ML/Assignment 3/data/test.csv'\n",
    "mod_df_path = '/mnt/d/Applied ML/Assignment 3/data/modified_df.csv'\n",
    "train_df, val_df, test_df, _ = load_data(train_path, val_path, test_path, mod_df_path)\n",
    "tfidf_X_train, tfidf_X_val, tfidf_X_test = preprocess_data(train_df, val_df, test_df)"
   ]
  },
  {
   "cell_type": "markdown",
   "id": "6d21ec4c",
   "metadata": {},
   "source": [
    "Model Initialization and Hyperparameter Definitions"
   ]
  },
  {
   "cell_type": "code",
   "execution_count": 16,
   "id": "88b1931d",
   "metadata": {},
   "outputs": [],
   "source": [
    "# Initialize models\n",
    "lr_model = LogisticRegression()\n",
    "\n",
    "# Hyperparameters for models\n",
    "\n",
    "lr_hyperparams = {'C': [0.01, 0.1, 1.0, 10.0]}\n"
   ]
  },
  {
   "cell_type": "markdown",
   "id": "70e083c5",
   "metadata": {},
   "source": [
    "Model Training"
   ]
  },
  {
   "cell_type": "code",
   "execution_count": 17,
   "id": "bd53b7f3",
   "metadata": {
    "scrolled": true
   },
   "outputs": [],
   "source": [
    "lr_model = train_model(lr_model, tfidf_X_train, train_df.y_train, lr_hyperparams)"
   ]
  },
  {
   "cell_type": "markdown",
   "id": "e5929410",
   "metadata": {},
   "source": [
    "Model Evaluation on Validation Set"
   ]
  },
  {
   "cell_type": "code",
   "execution_count": 18,
   "id": "c82a028e",
   "metadata": {},
   "outputs": [],
   "source": [
    "lr_accuracy, lr_report, lr_confusion = evaluate_model(lr_model, tfidf_X_val, val_df.y_val)"
   ]
  },
  {
   "cell_type": "markdown",
   "id": "ce2b34c1",
   "metadata": {},
   "source": [
    "Model Scoring on Test Set"
   ]
  },
  {
   "cell_type": "code",
   "execution_count": 19,
   "id": "39944b67",
   "metadata": {},
   "outputs": [],
   "source": [
    "lr_test_accuracy, lr_test_report, lr_test_confusion = test_model(lr_model.best_estimator_, tfidf_X_test, test_df.y_test)"
   ]
  },
  {
   "cell_type": "markdown",
   "id": "7a018ee3",
   "metadata": {},
   "source": [
    "Printing Results"
   ]
  },
  {
   "cell_type": "code",
   "execution_count": 20,
   "id": "e0356e51",
   "metadata": {},
   "outputs": [
    {
     "name": "stdout",
     "output_type": "stream",
     "text": [
      "Best Hyperparameters:\n",
      "Logistic Regression: {'C': 10.0}\n"
     ]
    }
   ],
   "source": [
    "# Print best hyperparameters for each model\n",
    "print(\"Best Hyperparameters:\")\n",
    "print(\"Logistic Regression:\", lr_model.best_params_)"
   ]
  },
  {
   "cell_type": "code",
   "execution_count": 21,
   "id": "61f0ed72",
   "metadata": {
    "scrolled": false
   },
   "outputs": [
    {
     "name": "stdout",
     "output_type": "stream",
     "text": [
      "\n",
      "Logistic Regression Model:\n",
      "Validation Accuracy: 0.9922480620155039\n",
      "Test Accuracy: 0.9895287958115183\n",
      "Classification Report:\n",
      "              precision    recall  f1-score   support\n",
      "\n",
      "           0       0.99      1.00      0.99       394\n",
      "           1       1.00      0.97      0.98       122\n",
      "\n",
      "    accuracy                           0.99       516\n",
      "   macro avg       0.99      0.98      0.99       516\n",
      "weighted avg       0.99      0.99      0.99       516\n",
      "\n",
      "Confusion Matrix:\n",
      "[[394   0]\n",
      " [  4 118]]\n"
     ]
    }
   ],
   "source": [
    "print(\"\\nLogistic Regression Model:\")\n",
    "print(\"Validation Accuracy:\", lr_accuracy)\n",
    "print(\"Test Accuracy:\", lr_test_accuracy)\n",
    "print(\"Classification Report:\")\n",
    "print(lr_report)\n",
    "print(\"Confusion Matrix:\")\n",
    "print(lr_confusion)"
   ]
  },
  {
   "cell_type": "markdown",
   "id": "93c264fb",
   "metadata": {},
   "source": [
    "**---------------------------------------------------------------------------------------------------------------------------------------------------------------------------------------**"
   ]
  },
  {
   "cell_type": "code",
   "execution_count": 24,
   "id": "7d5cfcaf",
   "metadata": {},
   "outputs": [
    {
     "data": {
      "text/plain": [
       "['Best_LR.pkl']"
      ]
     },
     "execution_count": 24,
     "metadata": {},
     "output_type": "execute_result"
    }
   ],
   "source": [
    "joblib.dump(lr_model.best_estimator_, 'Best_LR.pkl')"
   ]
  }
 ],
 "metadata": {
  "kernelspec": {
   "display_name": "Python 3 (ipykernel)",
   "language": "python",
   "name": "python3"
  },
  "language_info": {
   "codemirror_mode": {
    "name": "ipython",
    "version": 3
   },
   "file_extension": ".py",
   "mimetype": "text/x-python",
   "name": "python",
   "nbconvert_exporter": "python",
   "pygments_lexer": "ipython3",
   "version": "3.10.6"
  }
 },
 "nbformat": 4,
 "nbformat_minor": 5
}
