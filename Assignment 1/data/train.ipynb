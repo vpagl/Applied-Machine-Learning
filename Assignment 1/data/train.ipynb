{
 "cells": [
  {
   "cell_type": "markdown",
   "id": "739c6396",
   "metadata": {},
   "source": [
    "## AML Assignment 1\n",
    "### Varun Agrawal\n",
    "### MDS202251\n",
    "#### train.ipynb"
   ]
  },
  {
   "cell_type": "markdown",
   "id": "91225cae",
   "metadata": {},
   "source": [
    "Import and Data Loading"
   ]
  },
  {
   "cell_type": "code",
   "execution_count": 1,
   "id": "f038f0bb",
   "metadata": {},
   "outputs": [],
   "source": [
    "import pandas as pd\n",
    "from sklearn.feature_extraction.text import CountVectorizer, TfidfTransformer\n",
    "from sklearn.model_selection import train_test_split, GridSearchCV\n",
    "from sklearn.tree import DecisionTreeClassifier\n",
    "from sklearn.naive_bayes import MultinomialNB\n",
    "from sklearn.linear_model import LogisticRegression\n",
    "from sklearn.svm import SVC\n",
    "from sklearn.metrics import classification_report, accuracy_score, confusion_matrix\n",
    "\n",
    "def load_data(train_path, val_path, test_path, mod_df_path):\n",
    "    train_df = pd.read_csv(train_path)\n",
    "    val_df = pd.read_csv(val_path)\n",
    "    test_df = pd.read_csv(test_path)\n",
    "    df = pd.read_csv(mod_df_path)\n",
    "    return train_df, val_df, test_df, df\n"
   ]
  },
  {
   "cell_type": "markdown",
   "id": "ce24306a",
   "metadata": {},
   "source": [
    "Data Preprocessing"
   ]
  },
  {
   "cell_type": "code",
   "execution_count": 2,
   "id": "a3b39e8e",
   "metadata": {},
   "outputs": [],
   "source": [
    "def preprocess_data(train_df, val_df, test_df):\n",
    "    vectorizer = CountVectorizer()\n",
    "    vectorizer.fit(train_df.X_train)\n",
    "    X_train = vectorizer.transform(train_df.X_train)\n",
    "    X_val = vectorizer.transform(val_df.X_val)\n",
    "    X_test = vectorizer.transform(test_df.X_test)\n",
    "    \n",
    "    tfidf_trans = TfidfTransformer().fit(X_train)\n",
    "    tfidf_X_train = tfidf_trans.transform(X_train)\n",
    "    tfidf_X_val = tfidf_trans.transform(X_val)\n",
    "    tfidf_X_test = tfidf_trans.transform(X_test)\n",
    "    \n",
    "    return tfidf_X_train, tfidf_X_val, tfidf_X_test\n"
   ]
  },
  {
   "cell_type": "markdown",
   "id": "7443fb89",
   "metadata": {},
   "source": [
    "Model Training and Hyperparameter Tuning:"
   ]
  },
  {
   "cell_type": "code",
   "execution_count": 3,
   "id": "4978a737",
   "metadata": {},
   "outputs": [],
   "source": [
    "def train_model(model, X_train, y_train, hyperparams=None):\n",
    "    if hyperparams:\n",
    "        model = GridSearchCV(model, hyperparams, cv=5, scoring='accuracy', return_train_score=True)\n",
    "    model.fit(X_train, y_train)\n",
    "    return model\n"
   ]
  },
  {
   "cell_type": "markdown",
   "id": "33002ea1",
   "metadata": {},
   "source": [
    "Model Evaluation"
   ]
  },
  {
   "cell_type": "code",
   "execution_count": 4,
   "id": "117e01fd",
   "metadata": {},
   "outputs": [],
   "source": [
    "def evaluate_model(model, X_val, y_val):\n",
    "    val_predictions = model.predict(X_val)\n",
    "    accuracy = accuracy_score(y_val, val_predictions)\n",
    "    report = classification_report(y_val, val_predictions)\n",
    "    confusion = confusion_matrix(y_val, val_predictions)\n",
    "    return accuracy, report, confusion\n"
   ]
  },
  {
   "cell_type": "markdown",
   "id": "0e2f0aef",
   "metadata": {},
   "source": [
    "Model Testing"
   ]
  },
  {
   "cell_type": "code",
   "execution_count": 5,
   "id": "723b7889",
   "metadata": {},
   "outputs": [],
   "source": [
    "def test_model(model, X_test, y_test):\n",
    "    test_predictions = model.predict(X_test)\n",
    "    accuracy = accuracy_score(y_test, test_predictions)\n",
    "    report = classification_report(y_test, test_predictions)\n",
    "    confusion = confusion_matrix(y_test, test_predictions)\n",
    "    return accuracy, report, confusion\n"
   ]
  },
  {
   "cell_type": "markdown",
   "id": "76689c5a",
   "metadata": {},
   "source": [
    "Loading Data"
   ]
  },
  {
   "cell_type": "code",
   "execution_count": 6,
   "id": "06b30ba4",
   "metadata": {},
   "outputs": [],
   "source": [
    "train_path = './data/train.csv'\n",
    "val_path = './data/validation.csv'\n",
    "test_path = './data/test.csv'\n",
    "mod_df_path = './data/modified_df.csv'\n",
    "train_df, val_df, test_df, _ = load_data(train_path, val_path, test_path, mod_df_path)\n",
    "tfidf_X_train, tfidf_X_val, tfidf_X_test = preprocess_data(train_df, val_df, test_df)"
   ]
  },
  {
   "cell_type": "markdown",
   "id": "6d21ec4c",
   "metadata": {},
   "source": [
    "Model Initialization and Hyperparameter Definitions"
   ]
  },
  {
   "cell_type": "code",
   "execution_count": 7,
   "id": "88b1931d",
   "metadata": {},
   "outputs": [],
   "source": [
    "# Initialize models\n",
    "nb_model = MultinomialNB()\n",
    "lr_model = LogisticRegression()\n",
    "svc_model = SVC()\n",
    "dt_model = DecisionTreeClassifier()\n",
    "\n",
    "# Hyperparameters for models\n",
    "nb_hyperparams = {'alpha': [0.01, 0.1, 1.0, 10.0]}\n",
    "lr_hyperparams = {'C': [0.01, 0.1, 1.0, 10.0]}\n",
    "svc_hyperparams = {'C': [0.01, 0.1, 1.0, 10.0]}\n",
    "dt_hyperparams = {'max_depth': [None, 6, 10, 14]}\n"
   ]
  },
  {
   "cell_type": "markdown",
   "id": "70e083c5",
   "metadata": {},
   "source": [
    "Model Training"
   ]
  },
  {
   "cell_type": "code",
   "execution_count": 8,
   "id": "bd53b7f3",
   "metadata": {
    "scrolled": true
   },
   "outputs": [],
   "source": [
    "nb_model = train_model(nb_model, tfidf_X_train, train_df.y_train, nb_hyperparams)\n",
    "lr_model = train_model(lr_model, tfidf_X_train, train_df.y_train, lr_hyperparams)\n",
    "svc_model = train_model(svc_model, tfidf_X_train, train_df.y_train, svc_hyperparams)\n",
    "dt_model = train_model(dt_model, tfidf_X_train, train_df.y_train, dt_hyperparams)\n"
   ]
  },
  {
   "cell_type": "markdown",
   "id": "e5929410",
   "metadata": {},
   "source": [
    "Model Evaluation on Validation Set"
   ]
  },
  {
   "cell_type": "code",
   "execution_count": 9,
   "id": "c82a028e",
   "metadata": {},
   "outputs": [],
   "source": [
    "nb_accuracy, nb_report, nb_confusion = evaluate_model(nb_model, tfidf_X_val, val_df.y_val)\n",
    "lr_accuracy, lr_report, lr_confusion = evaluate_model(lr_model, tfidf_X_val, val_df.y_val)\n",
    "svc_accuracy, svc_report, svc_confusion = evaluate_model(svc_model, tfidf_X_val, val_df.y_val)\n",
    "dt_accuracy, dt_report, dt_confusion = evaluate_model(dt_model, tfidf_X_val, val_df.y_val)"
   ]
  },
  {
   "cell_type": "markdown",
   "id": "ce2b34c1",
   "metadata": {},
   "source": [
    "Model Scoring on Test Set"
   ]
  },
  {
   "cell_type": "code",
   "execution_count": 10,
   "id": "39944b67",
   "metadata": {},
   "outputs": [],
   "source": [
    "nb_test_accuracy, nb_test_report, nb_test_confusion = test_model(nb_model.best_estimator_, tfidf_X_test, test_df.y_test)\n",
    "lr_test_accuracy, lr_test_report, lr_test_confusion = test_model(lr_model.best_estimator_, tfidf_X_test, test_df.y_test)\n",
    "svc_test_accuracy, svc_test_report, svc_test_confusion = test_model(svc_model.best_estimator_, tfidf_X_test, test_df.y_test)\n",
    "dt_test_accuracy, dt_test_report, dt_test_confusion = test_model(dt_model.best_estimator_, tfidf_X_test, test_df.y_test)"
   ]
  },
  {
   "cell_type": "markdown",
   "id": "7a018ee3",
   "metadata": {},
   "source": [
    "Printing Results"
   ]
  },
  {
   "cell_type": "code",
   "execution_count": 11,
   "id": "e0356e51",
   "metadata": {},
   "outputs": [
    {
     "name": "stdout",
     "output_type": "stream",
     "text": [
      "Best Hyperparameters:\n",
      "Naive Bayes: {'alpha': 0.01}\n",
      "Logistic Regression: {'C': 10.0}\n",
      "Support Vector Machine: {'C': 10.0}\n",
      "Decision Tree: {'max_depth': None}\n"
     ]
    }
   ],
   "source": [
    "# Print best hyperparameters for each model\n",
    "print(\"Best Hyperparameters:\")\n",
    "print(\"Naive Bayes:\", nb_model.best_params_)\n",
    "print(\"Logistic Regression:\", lr_model.best_params_)\n",
    "print(\"Support Vector Machine:\", svc_model.best_params_)\n",
    "print(\"Decision Tree:\", dt_model.best_params_)\n"
   ]
  },
  {
   "cell_type": "code",
   "execution_count": 12,
   "id": "61f0ed72",
   "metadata": {
    "scrolled": false
   },
   "outputs": [
    {
     "name": "stdout",
     "output_type": "stream",
     "text": [
      "Naive Bayes Model:\n",
      "Validation Accuracy: 0.9922480620155039\n",
      "Test Accuracy: 0.9808027923211169\n",
      "Classification Report:\n",
      "              precision    recall  f1-score   support\n",
      "\n",
      "           0       0.99      1.00      1.00       411\n",
      "           1       1.00      0.96      0.98       105\n",
      "\n",
      "    accuracy                           0.99       516\n",
      "   macro avg       1.00      0.98      0.99       516\n",
      "weighted avg       0.99      0.99      0.99       516\n",
      "\n",
      "Confusion Matrix:\n",
      "[[411   0]\n",
      " [  4 101]]\n",
      "\n",
      "Logistic Regression Model:\n",
      "Validation Accuracy: 0.9941860465116279\n",
      "Test Accuracy: 0.9930191972076788\n",
      "Classification Report:\n",
      "              precision    recall  f1-score   support\n",
      "\n",
      "           0       0.99      1.00      1.00       411\n",
      "           1       1.00      0.97      0.99       105\n",
      "\n",
      "    accuracy                           0.99       516\n",
      "   macro avg       1.00      0.99      0.99       516\n",
      "weighted avg       0.99      0.99      0.99       516\n",
      "\n",
      "Confusion Matrix:\n",
      "[[411   0]\n",
      " [  3 102]]\n",
      "\n",
      "Support Vector Machine Model:\n",
      "Validation Accuracy: 0.9903100775193798\n",
      "Test Accuracy: 0.9895287958115183\n",
      "Classification Report:\n",
      "              precision    recall  f1-score   support\n",
      "\n",
      "           0       0.99      1.00      0.99       411\n",
      "           1       1.00      0.95      0.98       105\n",
      "\n",
      "    accuracy                           0.99       516\n",
      "   macro avg       0.99      0.98      0.98       516\n",
      "weighted avg       0.99      0.99      0.99       516\n",
      "\n",
      "Confusion Matrix:\n",
      "[[411   0]\n",
      " [  5 100]]\n",
      "\n",
      "Decision Tree Model:\n",
      "Validation Accuracy: 0.9651162790697675\n",
      "Test Accuracy: 0.944153577661431\n",
      "Classification Report:\n",
      "              precision    recall  f1-score   support\n",
      "\n",
      "           0       0.97      0.99      0.98       411\n",
      "           1       0.94      0.89      0.91       105\n",
      "\n",
      "    accuracy                           0.97       516\n",
      "   macro avg       0.96      0.94      0.95       516\n",
      "weighted avg       0.96      0.97      0.96       516\n",
      "\n",
      "Confusion Matrix:\n",
      "[[405   6]\n",
      " [ 12  93]]\n"
     ]
    }
   ],
   "source": [
    "print(\"Naive Bayes Model:\")\n",
    "print(\"Validation Accuracy:\", nb_accuracy)\n",
    "print(\"Test Accuracy:\", nb_test_accuracy)\n",
    "print(\"Classification Report:\")\n",
    "print(nb_report)\n",
    "print(\"Confusion Matrix:\")\n",
    "print(nb_confusion)\n",
    "\n",
    "print(\"\\nLogistic Regression Model:\")\n",
    "print(\"Validation Accuracy:\", lr_accuracy)\n",
    "print(\"Test Accuracy:\", lr_test_accuracy)\n",
    "print(\"Classification Report:\")\n",
    "print(lr_report)\n",
    "print(\"Confusion Matrix:\")\n",
    "print(lr_confusion)\n",
    "\n",
    "print(\"\\nSupport Vector Machine Model:\")\n",
    "print(\"Validation Accuracy:\", svc_accuracy)\n",
    "print(\"Test Accuracy:\", svc_test_accuracy)\n",
    "print(\"Classification Report:\")\n",
    "print(svc_report)\n",
    "print(\"Confusion Matrix:\")\n",
    "print(svc_confusion)\n",
    "\n",
    "print(\"\\nDecision Tree Model:\")\n",
    "print(\"Validation Accuracy:\", dt_accuracy)\n",
    "print(\"Test Accuracy:\", dt_test_accuracy)\n",
    "print(\"Classification Report:\")\n",
    "print(dt_report)\n",
    "print(\"Confusion Matrix:\")\n",
    "print(dt_confusion)\n"
   ]
  },
  {
   "cell_type": "markdown",
   "id": "93c264fb",
   "metadata": {},
   "source": [
    "**---------------------------------------------------------------------------------------------------------------------------------------------------------------------------------------**"
   ]
  },
  {
   "cell_type": "markdown",
   "id": "045a9283",
   "metadata": {},
   "source": [
    "This is what I did above\n",
    "1. **Fit a model on train data:** The code fits multiple models (Naive Bayes, Logistic Regression, Support Vector Machine, and Decision Tree) on the training data.\n",
    "\n",
    "2. **Score a model on given data:** The code scores the models on the validation set and the test set.\n",
    "\n",
    "3. **Evaluate the model predictions:** The code evaluates the model predictions by calculating accuracy, F1-score, and confusion matrix for both validation and test sets.\n",
    "\n",
    "4. **Validate the model:** The validation is performed using the validation set. The code evaluates each model's performance on the validation set and selects the best hyperparameters using GridSearchCV.\n",
    "\n",
    "5. **Fit on train:** The models are trained on the training data.\n",
    "\n",
    "6. **Score on train and validation:** The code calculates the accuracy and other metrics on both the training and validation sets.\n",
    "\n",
    "7. **Evaluate on train and validation:** The code evaluates each model's performance on both the training and validation sets.\n",
    "\n",
    "8. **Fine-tune using train and validation (if necessary):** Hyperparameter tuning is performed using GridSearchCV, which involves fine-tuning the models using both training and validation sets.\n",
    "\n",
    "9. **Score atleast 3 benchmark models on test data and select the best one:** The code scores all models (Naive Bayes, Logistic Regression, Support Vector Machine, and Decision Tree) on the test set and selects the best-performing model based on test set performance.\n",
    "\n",
    "We noticed that best performing model in terms of accuracy was Logistic Regression Model with C = 10, It also had the highest f1 score, and since from prepare.ipyn we know that 75% are hams(0) and 25% are spams(1) in the orignal data, I am trying to maximize f1 score and also taking look on accuracy.\n"
   ]
  }
 ],
 "metadata": {
  "kernelspec": {
   "display_name": "Python 3 (ipykernel)",
   "language": "python",
   "name": "python3"
  },
  "language_info": {
   "codemirror_mode": {
    "name": "ipython",
    "version": 3
   },
   "file_extension": ".py",
   "mimetype": "text/x-python",
   "name": "python",
   "nbconvert_exporter": "python",
   "pygments_lexer": "ipython3",
   "version": "3.8.8"
  }
 },
 "nbformat": 4,
 "nbformat_minor": 5
}
